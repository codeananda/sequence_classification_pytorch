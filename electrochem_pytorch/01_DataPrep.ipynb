{
 "cells": [
  {
   "cell_type": "markdown",
   "source": [
    "# Data Processing"
   ],
   "metadata": {}
  },
  {
   "cell_type": "markdown",
   "source": [
    "The client provided the data in an excel sheet - `data/main.xlsx`. There are five sheets (seawater, copper, cadmium, lead, and mix) but we didn't work with mix because we wanted to focus on building a simple model first. \n",
    "\n",
    "Each row of each sheet is a water sample and the output of the readings when the volts were passed through them. \n",
    "\n",
    "My first goal was to get everything in a format that is easier to work with and that I am more familiar with: csv files and pandas dataframes. \n",
    "\n",
    "Note that since I will be building an LSTM model in PyTorch, the inputs are expected to be of the shape: ???. But DataFrames are easiest to work with column wise. Each column represents a sequence and so I have added the class labels as an extra row. It was more convenient to access each sequence with column indexing e.g. `copper['seq_1']` than having the columns be voltage indexes (0, 1, 2, 3...). Moreover, in later notebooks, I will use only a subset of sequences to feed into the model and it felt more natural to select specific columns rather than rows of data to use. I will transpose the dataframes before feeding them into the torch model.\n",
    "\n",
    "## The Process\n",
    "\n",
    "1. Extract the sheets from the excel file into dataframes\n",
    "2. Drop unnecessary columns\n",
    "3. Create unique, descriptive column names for each sample (including metal, concentration and sample number)\n",
    "4. Transfrom the dataframes from wide-form to long-form\n",
    "5. Create a voltage column\n",
    "6. Reset index to be unique\n",
    "\n",
    "It's all in the `data.py` file - rename it to data_processing or something. "
   ],
   "metadata": {}
  },
  {
   "cell_type": "code",
   "execution_count": 1,
   "source": [
    "import numpy as np\n",
    "import pandas as pd\n",
    "from pathlib import Path\n",
    "\n",
    "from scripts.data_processing import create_cleaned_df, get_class_label_to_int_mapping\n",
    "\n",
    "DATA_DIR = Path(\"data\")\n",
    "# Maps class labels from str to int e.g. 'Cu' to 1.\n",
    "class_label_to_int_mapping = get_class_label_to_int_mapping()"
   ],
   "outputs": [],
   "metadata": {}
  },
  {
   "cell_type": "code",
   "execution_count": 2,
   "source": [
    "# Read in the sheets we want from the Excel file\n",
    "sheet_names = [\"Seawater - No Heavy Metals\", \"Copper\", \"Cadmium\", \"Lead\"]\n",
    "xcel = pd.read_excel(DATA_DIR / \"main.xlsx\", sheet_name=sheet_names)\n",
    "\n",
    "# Create dataframes for each class\n",
    "seawater = xcel[\"Seawater - No Heavy Metals\"]\n",
    "copper = xcel[\"Copper\"]\n",
    "cadmium = xcel[\"Cadmium\"]\n",
    "lead = xcel[\"Lead\"]"
   ],
   "outputs": [],
   "metadata": {}
  },
  {
   "cell_type": "code",
   "execution_count": 4,
   "source": [
    "# Create cleaned dfs\n",
    "copper_clean = create_cleaned_df(copper, \"Cu\")\n",
    "cadmium_clean = create_cleaned_df(cadmium, \"Cd\")\n",
    "lead_clean = create_cleaned_df(lead, \"Pb\")"
   ],
   "outputs": [],
   "metadata": {}
  },
  {
   "cell_type": "code",
   "execution_count": 8,
   "source": [
    "copper_clean.head()"
   ],
   "outputs": [
    {
     "output_type": "execute_result",
     "data": {
      "text/plain": [
       "                     0         1         2         3         4         5  \\\n",
       "Cu_500_ppb_0 -3.225950 -3.350025 -3.350025 -3.350025 -3.350025 -3.287988   \n",
       "Cu_500_ppb_1 -4.032438 -4.094475 -4.094475 -4.094475 -4.094475 -4.094475   \n",
       "Cu_500_ppb_2 -0.496300 -0.558338 -0.558338 -0.496300 -0.558338 -0.496300   \n",
       "Cu_500_ppb_3 -0.806488 -0.744450 -0.744450 -0.744450 -0.744450 -0.682413   \n",
       "Cu_500_ppb_4 -0.434263 -0.496300 -0.434263 -0.434263 -0.434263 -0.372225   \n",
       "\n",
       "                     6         7         8         9  ...       993       994  \\\n",
       "Cu_500_ppb_0 -3.350025 -3.287988 -3.350025 -3.287988  ...  8.809325  8.933400   \n",
       "Cu_500_ppb_1 -4.094475 -4.032438 -4.032438 -4.156513  ...  5.955600  6.079675   \n",
       "Cu_500_ppb_2 -0.558338 -0.434263 -0.558338 -0.496300  ...  3.536138  3.536138   \n",
       "Cu_500_ppb_3 -0.682413 -0.682413 -0.620375 -0.682413  ...  3.784288  3.846325   \n",
       "Cu_500_ppb_4 -0.434263 -0.372225 -0.434263 -0.434263  ...  2.791688  2.853725   \n",
       "\n",
       "                   995       996       997       998       999      1000  \\\n",
       "Cu_500_ppb_0  8.995438  9.119513  9.243588  9.367663  9.491738  9.615813   \n",
       "Cu_500_ppb_1  6.203750  6.265788  6.389863  6.451900  6.700050  6.700050   \n",
       "Cu_500_ppb_2  3.660213  3.722250  3.846325  3.846325  4.094475  4.156513   \n",
       "Cu_500_ppb_3  3.970400  4.032438  4.156513  4.280588  4.404663  4.404663   \n",
       "Cu_500_ppb_4  2.853725  2.977800  3.101875  3.163913  3.225950  3.287988   \n",
       "\n",
       "                  1001  label  \n",
       "Cu_500_ppb_0  9.739888      1  \n",
       "Cu_500_ppb_1  6.886163      1  \n",
       "Cu_500_ppb_2  4.280588      1  \n",
       "Cu_500_ppb_3  4.590775      1  \n",
       "Cu_500_ppb_4  3.412063      1  \n",
       "\n",
       "[5 rows x 1003 columns]"
      ],
      "text/html": [
       "<div>\n",
       "<style scoped>\n",
       "    .dataframe tbody tr th:only-of-type {\n",
       "        vertical-align: middle;\n",
       "    }\n",
       "\n",
       "    .dataframe tbody tr th {\n",
       "        vertical-align: top;\n",
       "    }\n",
       "\n",
       "    .dataframe thead th {\n",
       "        text-align: right;\n",
       "    }\n",
       "</style>\n",
       "<table border=\"1\" class=\"dataframe\">\n",
       "  <thead>\n",
       "    <tr style=\"text-align: right;\">\n",
       "      <th></th>\n",
       "      <th>0</th>\n",
       "      <th>1</th>\n",
       "      <th>2</th>\n",
       "      <th>3</th>\n",
       "      <th>4</th>\n",
       "      <th>5</th>\n",
       "      <th>6</th>\n",
       "      <th>7</th>\n",
       "      <th>8</th>\n",
       "      <th>9</th>\n",
       "      <th>...</th>\n",
       "      <th>993</th>\n",
       "      <th>994</th>\n",
       "      <th>995</th>\n",
       "      <th>996</th>\n",
       "      <th>997</th>\n",
       "      <th>998</th>\n",
       "      <th>999</th>\n",
       "      <th>1000</th>\n",
       "      <th>1001</th>\n",
       "      <th>label</th>\n",
       "    </tr>\n",
       "  </thead>\n",
       "  <tbody>\n",
       "    <tr>\n",
       "      <th>Cu_500_ppb_0</th>\n",
       "      <td>-3.225950</td>\n",
       "      <td>-3.350025</td>\n",
       "      <td>-3.350025</td>\n",
       "      <td>-3.350025</td>\n",
       "      <td>-3.350025</td>\n",
       "      <td>-3.287988</td>\n",
       "      <td>-3.350025</td>\n",
       "      <td>-3.287988</td>\n",
       "      <td>-3.350025</td>\n",
       "      <td>-3.287988</td>\n",
       "      <td>...</td>\n",
       "      <td>8.809325</td>\n",
       "      <td>8.933400</td>\n",
       "      <td>8.995438</td>\n",
       "      <td>9.119513</td>\n",
       "      <td>9.243588</td>\n",
       "      <td>9.367663</td>\n",
       "      <td>9.491738</td>\n",
       "      <td>9.615813</td>\n",
       "      <td>9.739888</td>\n",
       "      <td>1</td>\n",
       "    </tr>\n",
       "    <tr>\n",
       "      <th>Cu_500_ppb_1</th>\n",
       "      <td>-4.032438</td>\n",
       "      <td>-4.094475</td>\n",
       "      <td>-4.094475</td>\n",
       "      <td>-4.094475</td>\n",
       "      <td>-4.094475</td>\n",
       "      <td>-4.094475</td>\n",
       "      <td>-4.094475</td>\n",
       "      <td>-4.032438</td>\n",
       "      <td>-4.032438</td>\n",
       "      <td>-4.156513</td>\n",
       "      <td>...</td>\n",
       "      <td>5.955600</td>\n",
       "      <td>6.079675</td>\n",
       "      <td>6.203750</td>\n",
       "      <td>6.265788</td>\n",
       "      <td>6.389863</td>\n",
       "      <td>6.451900</td>\n",
       "      <td>6.700050</td>\n",
       "      <td>6.700050</td>\n",
       "      <td>6.886163</td>\n",
       "      <td>1</td>\n",
       "    </tr>\n",
       "    <tr>\n",
       "      <th>Cu_500_ppb_2</th>\n",
       "      <td>-0.496300</td>\n",
       "      <td>-0.558338</td>\n",
       "      <td>-0.558338</td>\n",
       "      <td>-0.496300</td>\n",
       "      <td>-0.558338</td>\n",
       "      <td>-0.496300</td>\n",
       "      <td>-0.558338</td>\n",
       "      <td>-0.434263</td>\n",
       "      <td>-0.558338</td>\n",
       "      <td>-0.496300</td>\n",
       "      <td>...</td>\n",
       "      <td>3.536138</td>\n",
       "      <td>3.536138</td>\n",
       "      <td>3.660213</td>\n",
       "      <td>3.722250</td>\n",
       "      <td>3.846325</td>\n",
       "      <td>3.846325</td>\n",
       "      <td>4.094475</td>\n",
       "      <td>4.156513</td>\n",
       "      <td>4.280588</td>\n",
       "      <td>1</td>\n",
       "    </tr>\n",
       "    <tr>\n",
       "      <th>Cu_500_ppb_3</th>\n",
       "      <td>-0.806488</td>\n",
       "      <td>-0.744450</td>\n",
       "      <td>-0.744450</td>\n",
       "      <td>-0.744450</td>\n",
       "      <td>-0.744450</td>\n",
       "      <td>-0.682413</td>\n",
       "      <td>-0.682413</td>\n",
       "      <td>-0.682413</td>\n",
       "      <td>-0.620375</td>\n",
       "      <td>-0.682413</td>\n",
       "      <td>...</td>\n",
       "      <td>3.784288</td>\n",
       "      <td>3.846325</td>\n",
       "      <td>3.970400</td>\n",
       "      <td>4.032438</td>\n",
       "      <td>4.156513</td>\n",
       "      <td>4.280588</td>\n",
       "      <td>4.404663</td>\n",
       "      <td>4.404663</td>\n",
       "      <td>4.590775</td>\n",
       "      <td>1</td>\n",
       "    </tr>\n",
       "    <tr>\n",
       "      <th>Cu_500_ppb_4</th>\n",
       "      <td>-0.434263</td>\n",
       "      <td>-0.496300</td>\n",
       "      <td>-0.434263</td>\n",
       "      <td>-0.434263</td>\n",
       "      <td>-0.434263</td>\n",
       "      <td>-0.372225</td>\n",
       "      <td>-0.434263</td>\n",
       "      <td>-0.372225</td>\n",
       "      <td>-0.434263</td>\n",
       "      <td>-0.434263</td>\n",
       "      <td>...</td>\n",
       "      <td>2.791688</td>\n",
       "      <td>2.853725</td>\n",
       "      <td>2.853725</td>\n",
       "      <td>2.977800</td>\n",
       "      <td>3.101875</td>\n",
       "      <td>3.163913</td>\n",
       "      <td>3.225950</td>\n",
       "      <td>3.287988</td>\n",
       "      <td>3.412063</td>\n",
       "      <td>1</td>\n",
       "    </tr>\n",
       "  </tbody>\n",
       "</table>\n",
       "<p>5 rows × 1003 columns</p>\n",
       "</div>"
      ]
     },
     "metadata": {},
     "execution_count": 8
    }
   ],
   "metadata": {}
  },
  {
   "cell_type": "markdown",
   "source": [
    "Now all the rows have a uniquely identifiable name. This will help later on when we only want to input certain rows into our model. The columns have been renamed as ints ranging from 0-1001, we don't need to use the actual voltages at any point. Lastly, we've added a 'label' column containing the class label for this analyte as an int (since PyTorch requires your class labels to be ints).\n",
    "\n",
    "I've kept everything in row form to make feeding it into the model easier. \n",
    "\n",
    "Now let's save the data as csvs in the DATA_DIR."
   ],
   "metadata": {}
  },
  {
   "cell_type": "code",
   "execution_count": 5,
   "source": [
    "# Save as csvs\n",
    "copper_clean.to_csv(DATA_DIR / \"copper.csv\")\n",
    "cadmium_clean.to_csv(DATA_DIR / \"cadmium.csv\")\n",
    "lead_clean.to_csv(DATA_DIR / \"lead.csv\")"
   ],
   "outputs": [],
   "metadata": {}
  },
  {
   "cell_type": "markdown",
   "source": [
    "We need to slightly modify the code for seawater to remove the 'seawater_' appendix on each row that was added in the `create_cleaned_df` function. I decided not to put any checks in the function to see if the input was seawater or not as this change is only a couple of lines and we are only working with 4 classes. If I had more classes that behaved like seawater in the `create_cleaned_df` function, then I would put the logic to handle this in the function."
   ],
   "metadata": {}
  },
  {
   "cell_type": "code",
   "execution_count": 6,
   "source": [
    "seawater_clean = create_cleaned_df(seawater, \"Sw\")\n",
    "# Remove the 'seawater_' from the start of all row names\n",
    "start_index = len(\"seawater_\")\n",
    "seawater_clean.index = [name[start_index:] for name in seawater_clean.index]\n",
    "seawater_clean.to_csv(DATA_DIR / \"seawater.csv\")"
   ],
   "outputs": [],
   "metadata": {}
  },
  {
   "cell_type": "markdown",
   "source": [
    "Finally, let's concatenate all the dataframes together and make one large csv to make loading in our data much easier."
   ],
   "metadata": {}
  },
  {
   "cell_type": "code",
   "execution_count": 9,
   "source": [
    "analytes = [copper_clean, cadmium_clean, lead_clean, seawater_clean]\n",
    "analytes_df = pd.concat(analytes)\n",
    "analytes_df.to_csv(DATA_DIR / \"all_data.csv\")"
   ],
   "outputs": [],
   "metadata": {}
  },
  {
   "cell_type": "markdown",
   "source": [
    "Now we have the data in a form that is easy to work with and can be fed into our models. Let's do some data exploration!"
   ],
   "metadata": {}
  }
 ],
 "metadata": {
  "orig_nbformat": 4,
  "language_info": {
   "name": "python",
   "version": "3.8.5",
   "mimetype": "text/x-python",
   "codemirror_mode": {
    "name": "ipython",
    "version": 3
   },
   "pygments_lexer": "ipython3",
   "nbconvert_exporter": "python",
   "file_extension": ".py"
  },
  "kernelspec": {
   "name": "python3",
   "display_name": "Python 3.8.5 64-bit ('pytorch': conda)"
  },
  "interpreter": {
   "hash": "b60a01ecf532b2f759cce798974887fb1836b7786c6743edae9ea9f1cf50a2f1"
  }
 },
 "nbformat": 4,
 "nbformat_minor": 2
}