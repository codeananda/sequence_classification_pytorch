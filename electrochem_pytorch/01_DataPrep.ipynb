{
 "cells": [
  {
   "cell_type": "markdown",
   "source": [
    "# Data Processing"
   ],
   "metadata": {}
  },
  {
   "cell_type": "markdown",
   "source": [
    "The client provided the data in an excel sheet - `data/main.xlsx`. There are five sheets (seawater, copper, cadmium, lead, and mix) but we didn't work with mix because we wanted to focus on building a simple model first. \n",
    "\n",
    "Each row of each sheet is a water sample and the output of the readings when the volts were passed through them. \n",
    "\n",
    "My first goal was to get everything in a format I am more familiar with: csv files and pandas dataframes. \n",
    "\n",
    "## The Process\n",
    "\n",
    "1. Extract the sheets from the excel file into dataframes\n",
    "2. Drop unnecessary columns\n",
    "3. Create unique, descriptive column names for each sample (including metal, concentration and sample number)\n",
    "4. Transfrom the dataframes from wide-form to long-form\n",
    "5. Create a voltage column\n",
    "6. Reset index to be unique\n",
    "\n",
    "It's all in the `data.py` file - rename it to data_processing or something. "
   ],
   "metadata": {}
  },
  {
   "cell_type": "code",
   "execution_count": 1,
   "source": [
    "import numpy as np\n",
    "import pandas as pd\n",
    "from pathlib import Path\n",
    "\n",
    "from scripts.data_processing import transform_to_longform_df\n",
    "\n",
    "DATA_DIR = Path('data')"
   ],
   "outputs": [],
   "metadata": {}
  },
  {
   "cell_type": "code",
   "execution_count": 2,
   "source": [
    "# Read in the sheets we want from the Excel file\n",
    "sheet_names = ['Seawater - No Heavy Metals', 'Copper', 'Cadmium', 'Lead']\n",
    "xcel = pd.read_excel(DATA_DIR / 'main.xlsx', sheet_name=sheet_names)\n",
    "\n",
    "# Create dataframes for each class\n",
    "seawater = xcel['Seawater - No Heavy Metals']\n",
    "copper = xcel['Copper']\n",
    "cadmium = xcel['Cadmium']\n",
    "lead = xcel['Lead']"
   ],
   "outputs": [],
   "metadata": {}
  },
  {
   "cell_type": "code",
   "execution_count": 22,
   "source": [
    "# Save metals as csv files\n",
    "transform_to_longform_df(copper).to_csv(DATA_DIR / 'copper.csv')\n",
    "transform_to_longform_df(cadmium).to_csv(DATA_DIR / 'cadmium.csv')\n",
    "transform_to_longform_df(lead).to_csv(DATA_DIR / 'lead.csv')"
   ],
   "outputs": [],
   "metadata": {}
  },
  {
   "cell_type": "code",
   "execution_count": 23,
   "source": [
    "# seawater_long col names are seawater_SW0_n (for some n)\n",
    "# Let's keep everything after the first underscore\n",
    "seawater_long = transform_to_longform_df(seawater)\n",
    "example_col = seawater_long.columns[1]\n",
    "underscore_position = example_col.find('_')\n",
    "short_col_names = [col[underscore_position+1:] \\\n",
    "                   # Don't modify the voltage column\n",
    "                   if col.startswith('s') else col \\\n",
    "                   for col in seawater_long.columns]\n",
    "# Rename cols\n",
    "seawater_long.columns = short_col_names\n",
    "seawater_long.to_csv(DATA_DIR / 'seawater.csv')"
   ],
   "outputs": [],
   "metadata": {}
  },
  {
   "cell_type": "markdown",
   "source": [
    "Now the data is in a form that is easier to work with, let's start exploring!"
   ],
   "metadata": {}
  },
  {
   "cell_type": "markdown",
   "source": [],
   "metadata": {}
  }
 ],
 "metadata": {
  "orig_nbformat": 4,
  "language_info": {
   "name": "python",
   "version": "3.8.5",
   "mimetype": "text/x-python",
   "codemirror_mode": {
    "name": "ipython",
    "version": 3
   },
   "pygments_lexer": "ipython3",
   "nbconvert_exporter": "python",
   "file_extension": ".py"
  },
  "kernelspec": {
   "name": "python3",
   "display_name": "Python 3.8.5 64-bit ('pytorch': conda)"
  },
  "interpreter": {
   "hash": "b60a01ecf532b2f759cce798974887fb1836b7786c6743edae9ea9f1cf50a2f1"
  }
 },
 "nbformat": 4,
 "nbformat_minor": 2
}