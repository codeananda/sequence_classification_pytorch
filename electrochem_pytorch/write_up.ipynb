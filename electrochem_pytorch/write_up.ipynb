{
 "cells": [
  {
   "cell_type": "markdown",
   "source": [
    "# PyTorch - Sequence Multiclass Classification"
   ],
   "metadata": {}
  },
  {
   "cell_type": "markdown",
   "source": [
    "## The Problem\n",
    "\n",
    "My client wanted to build a model that divers could use on their watches when scubadiving. The model will take as input a reading of seawater and it will output whether one of four classes is present.\n",
    "\n",
    "The options are: seawater (stable baseline), copper (Cu), cadmium (Cd) or lead (Pb).\n",
    "\n",
    "The model should detect a) which metal is present in the seawater sample (if any) and b) what concentration the metal is. \n",
    "\n",
    "This was a PoC, so we wanted to first build a simple model to see how much progress we could make. As such we worked under the assumption that only one metal could be present in the water at any time. We did not work with any mixed samples (but the client did provide some). We also only worked with a discrete number of concentrations (50, 125, 250, 375, 500, 625, 750, 825, and 1000). Not all classes had the same concentration levels and the number of samples per concentration was not consistent across samples. \n",
    "\n",
    "## The Dataset\n",
    "\n",
    "The dataset was created by running an electric current through seawater. The voltage runs from 1 to -1 and back up to 1 again, creating 1002 individual voltages. We can view each voltage as a timestep. The output for each voltage is recorded. The pattern of reaction from each sample can be plotted and used to classify what the seawater contains. There are 4 classes: seawater (baseline), copper, cadmium, and lead. \n",
    "\n",
    "So, it's a multi-class classificaiton problem with sequences. \n",
    "\n",
    "Each metal produces a different peak in the output voltage (and seawater should be completely flat). Here are four plots:\n",
    "\n",
    "INSERT PLOT OF EACH CLASS WITH A BIG PEAK.\n",
    "\n",
    "**Initial challenges**\n",
    "\n",
    "We were working with a small dataset.\n",
    "\n",
    "The number of instances for each class:\n",
    "- Copper: 23\n",
    "- Cadmium: 36\n",
    "- Lead: 36\n",
    "- Seawater: 80\n",
    "\n",
    "So that is 175 samples in total and 80 / 175 = 45.7% of them being the baseline. \n",
    "\n",
    "On top of that, the client also wanted the model to predict the concentration of each metal in the water. A higher concentration leads to a higher peak. \n",
    "\n",
    "\n",
    "\n"
   ],
   "metadata": {}
  },
  {
   "cell_type": "markdown",
   "source": [
    "## Conda Environment\n",
    "\n",
    "Export the pytorch environment from history and that should work fine. It is the `pytorch_env_from_history.yml` file.\n",
    "\n"
   ],
   "metadata": {}
  },
  {
   "cell_type": "markdown",
   "source": [
    "## Dataset Exploration\n",
    "\n"
   ],
   "metadata": {}
  }
 ],
 "metadata": {
  "orig_nbformat": 4,
  "language_info": {
   "name": "python"
  }
 },
 "nbformat": 4,
 "nbformat_minor": 2
}