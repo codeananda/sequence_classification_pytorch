{
 "cells": [
  {
   "cell_type": "markdown",
   "source": [
    "# Baseline Classifier\n",
    "\n",
    "In this notebook, I will create two baseline classifiers. One random and one intelligent that will make predictions based off the peak of the sample in the ranges I found in 02_DataExploration.ipynb. \n",
    "\n",
    "The peaks for each analyte are at:\n",
    "- Copper - [660, 720]\n",
    "- Cadmium - [530, 580]\n",
    "- Lead - [580, 620]\n",
    "- Seawater - N/A (it's a flat baseline)"
   ],
   "metadata": {}
  },
  {
   "cell_type": "markdown",
   "source": [
    "## Random Classifier\n",
    "\n",
    "Let's see how the model will perform if it guesses the classes 0-3 at random."
   ],
   "metadata": {}
  },
  {
   "cell_type": "code",
   "execution_count": 1,
   "source": [
    "import numpy as np\n",
    "import pandas as pd\n",
    "from pathlib import Path\n",
    "import matplotlib.pyplot as plt\n",
    "import seaborn as sns\n",
    "\n",
    "sns.set()\n",
    "\n",
    "DATA_DIR = Path('data/')\n",
    "\n",
    "# Read in dataframes - good to keep them separate to make plotting easier\n",
    "cadmium = pd.read_csv(DATA_DIR / 'cadmium.csv', index_col=0)\n",
    "copper = pd.read_csv(DATA_DIR / 'copper.csv', index_col=0)\n",
    "lead = pd.read_csv(DATA_DIR / 'lead.csv', index_col=0)\n",
    "seawater = pd.read_csv(DATA_DIR / 'seawater.csv', index_col=0)\n",
    "\n",
    "analytes = pd.read_csv(DATA_DIR / 'all_data.csv', index_col=0)"
   ],
   "outputs": [],
   "metadata": {}
  },
  {
   "cell_type": "code",
   "execution_count": 6,
   "source": [
    "class RandomClassifier:\n",
    "    \"\"\"Returns random predictions of ints in the range 0-3.\n",
    "    \"\"\"\n",
    "\n",
    "    def __init__(self, seed=0):\n",
    "        np.random.seed(seed)\n",
    "        self.seed = seed\n",
    "\n",
    "    def fit(self, X, y=None):\n",
    "        return self\n",
    "\n",
    "    def predict(self, X, y=None):\n",
    "        # Return array len(X) containing ints 0-3 randomly chosen\n",
    "        return np.random.randint(0, 4, len(X))\n",
    "\n",
    "\n",
    "class PeakClassifier:\n",
    "    \"\"\"Returns predictions based off of the maximum peak value of the sample. \n",
    "    \"\"\"\n",
    "\n",
    "    def fit(self, X, y=None):\n",
    "        return self\n",
    "\n",
    "    def "
   ],
   "outputs": [],
   "metadata": {}
  },
  {
   "cell_type": "code",
   "execution_count": 7,
   "source": [
    "analytes.shape"
   ],
   "outputs": [
    {
     "output_type": "execute_result",
     "data": {
      "text/plain": [
       "(175, 1003)"
      ]
     },
     "metadata": {},
     "execution_count": 7
    }
   ],
   "metadata": {}
  },
  {
   "cell_type": "code",
   "execution_count": 16,
   "source": [
    "random = RandomClassifier()"
   ],
   "outputs": [],
   "metadata": {}
  },
  {
   "cell_type": "code",
   "execution_count": 21,
   "source": [
    "random.predict(analytes)"
   ],
   "outputs": [
    {
     "output_type": "execute_result",
     "data": {
      "text/plain": [
       "array([1, 0, 3, 1, 2, 1, 1, 0, 1, 1, 3, 1, 3, 2, 0, 1, 1, 3, 3, 0, 1, 2,\n",
       "       0, 1, 2, 1, 2, 1, 3, 2, 3, 1, 2, 3, 2, 2, 2, 0, 3, 2, 2, 3, 2, 2,\n",
       "       0, 1, 0, 3, 2, 0, 0, 2, 3, 1, 3, 2, 2, 1, 1, 2, 3, 1, 2, 1, 3, 2,\n",
       "       3, 0, 1, 1, 2, 2, 0, 2, 1, 3, 2, 0, 3, 1, 2, 0, 2, 1, 2, 1, 0, 0,\n",
       "       1, 0, 2, 0, 3, 1, 2, 0, 2, 3, 0, 0, 1, 0, 1, 0, 2, 3, 3, 0, 2, 1,\n",
       "       3, 3, 0, 2, 0, 2, 0, 3, 2, 2, 0, 0, 2, 1, 3, 1, 1, 1, 0, 2, 1, 1,\n",
       "       3, 3, 1, 3, 1, 3, 2, 0, 2, 1, 1, 1, 1, 2, 0, 1, 2, 3, 1, 3, 1, 1,\n",
       "       2, 0, 2, 2, 3, 2, 2, 2, 0, 3, 1, 1, 3, 3, 2, 3, 2, 2, 1, 3, 1])"
      ]
     },
     "metadata": {},
     "execution_count": 21
    }
   ],
   "metadata": {}
  },
  {
   "cell_type": "code",
   "execution_count": null,
   "source": [],
   "outputs": [],
   "metadata": {}
  }
 ],
 "metadata": {
  "orig_nbformat": 4,
  "language_info": {
   "name": "python",
   "version": "3.8.5",
   "mimetype": "text/x-python",
   "codemirror_mode": {
    "name": "ipython",
    "version": 3
   },
   "pygments_lexer": "ipython3",
   "nbconvert_exporter": "python",
   "file_extension": ".py"
  },
  "kernelspec": {
   "name": "python3",
   "display_name": "Python 3.8.5 64-bit ('pytorch': conda)"
  },
  "interpreter": {
   "hash": "b60a01ecf532b2f759cce798974887fb1836b7786c6743edae9ea9f1cf50a2f1"
  }
 },
 "nbformat": 4,
 "nbformat_minor": 2
}